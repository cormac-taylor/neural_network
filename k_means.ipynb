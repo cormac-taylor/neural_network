{
 "cells": [
  {
   "cell_type": "markdown",
   "metadata": {},
   "source": [
    "# HW3 | Problem 1: K-Means\n",
    "#### Cormac Taylor\n",
    "#### I pledge my honor that I have abided by the Stevens Honor System."
   ]
  },
  {
   "cell_type": "markdown",
   "metadata": {},
   "source": [
    "# Installs"
   ]
  },
  {
   "cell_type": "code",
   "execution_count": 90,
   "metadata": {},
   "outputs": [
    {
     "name": "stdout",
     "output_type": "stream",
     "text": [
      "Requirement already satisfied: numpy in ./.venv/lib/python3.13/site-packages (2.1.3)\n",
      "Requirement already satisfied: matplotlib in ./.venv/lib/python3.13/site-packages (3.9.3)\n",
      "Requirement already satisfied: contourpy>=1.0.1 in ./.venv/lib/python3.13/site-packages (from matplotlib) (1.3.1)\n",
      "Requirement already satisfied: cycler>=0.10 in ./.venv/lib/python3.13/site-packages (from matplotlib) (0.12.1)\n",
      "Requirement already satisfied: fonttools>=4.22.0 in ./.venv/lib/python3.13/site-packages (from matplotlib) (4.55.2)\n",
      "Requirement already satisfied: kiwisolver>=1.3.1 in ./.venv/lib/python3.13/site-packages (from matplotlib) (1.4.7)\n",
      "Requirement already satisfied: numpy>=1.23 in ./.venv/lib/python3.13/site-packages (from matplotlib) (2.1.3)\n",
      "Requirement already satisfied: packaging>=20.0 in ./.venv/lib/python3.13/site-packages (from matplotlib) (24.2)\n",
      "Requirement already satisfied: pillow>=8 in ./.venv/lib/python3.13/site-packages (from matplotlib) (11.0.0)\n",
      "Requirement already satisfied: pyparsing>=2.3.1 in ./.venv/lib/python3.13/site-packages (from matplotlib) (3.2.0)\n",
      "Requirement already satisfied: python-dateutil>=2.7 in ./.venv/lib/python3.13/site-packages (from matplotlib) (2.9.0.post0)\n",
      "Requirement already satisfied: six>=1.5 in ./.venv/lib/python3.13/site-packages (from python-dateutil>=2.7->matplotlib) (1.17.0)\n"
     ]
    }
   ],
   "source": [
    "import sys\n",
    "!{sys.executable} -m pip install numpy"
   ]
  },
  {
   "cell_type": "markdown",
   "metadata": {},
   "source": [
    "# Imports\n",
    "- NumPy"
   ]
  },
  {
   "cell_type": "code",
   "execution_count": 91,
   "metadata": {},
   "outputs": [],
   "source": [
    "import numpy as np"
   ]
  },
  {
   "cell_type": "markdown",
   "metadata": {},
   "source": [
    "# Set Up"
   ]
  },
  {
   "cell_type": "code",
   "execution_count": 92,
   "metadata": {},
   "outputs": [],
   "source": [
    "X = np.array([[1,1],[2,1],[1,2],[6,1],[8,2],[7,3],[4,6],[5,7],[5,8]])\n",
    "MU = np.array([[6,2],[8,1],[8,9]])"
   ]
  },
  {
   "cell_type": "markdown",
   "metadata": {},
   "source": [
    "# K-Means Class"
   ]
  },
  {
   "cell_type": "code",
   "execution_count": 108,
   "metadata": {},
   "outputs": [],
   "source": [
    "\n",
    "class Kmeans:\n",
    "    \n",
    "    # classify data by closes of the k-means\n",
    "    def firstPhase(self, X, MU):\n",
    "        R = [0] * np.shape(X)[0]\n",
    "        for n in range(np.shape(X)[0]):\n",
    "            minDist = float('inf')\n",
    "            for k in range(np.shape(MU)[0]):\n",
    "                diff = X[n] - MU[k]\n",
    "                dist = np.square(np.linalg.norm(diff))\n",
    "                if dist < minDist:\n",
    "                    minDist = dist\n",
    "                    R[n] = k\n",
    "        return R\n",
    "                    \n",
    "    # update the k-means based on the classified data\n",
    "    def secondPhase(self, X, R, MU_shape):\n",
    "        k = MU_shape[0]\n",
    "        MU = np.zeros(MU_shape)\n",
    "        count = [0] * k\n",
    "        for r in R:\n",
    "            count[r] += 1\n",
    "            MU[r] += X[r]\n",
    "        for i in range(k):\n",
    "            MU[i] /= count[i]\n",
    "        return MU\n",
    "    \n",
    "    # run k-mean for iter iterations\n",
    "    def k_means_iter(self, X, MU, iter):\n",
    "        MU_cur = MU\n",
    "        for _ in range(iter):\n",
    "            R = self.firstPhase(X, MU_cur)\n",
    "            MU_cur = self.secondPhase(X, R, np.shape(MU_cur))\n",
    "        return MU_cur\n",
    "\n",
    "    # run k-mean till convergence and count iterations \n",
    "    def k_means_conv(self, X, MU):\n",
    "        iters = -1\n",
    "        MU_prev = np.empty(np.shape(MU))\n",
    "        MU_cur = MU\n",
    "        while not np.array_equal(MU_cur, MU_prev):\n",
    "            iters += 1\n",
    "            MU_prev = MU_cur\n",
    "            R = self.firstPhase(X, MU_cur)\n",
    "            MU_cur = self.secondPhase(X, R, np.shape(MU_cur))\n",
    "        return (MU_cur, iters)\n"
   ]
  },
  {
   "cell_type": "markdown",
   "metadata": {},
   "source": [
    "# Questions"
   ]
  },
  {
   "cell_type": "code",
   "execution_count": 110,
   "metadata": {},
   "outputs": [
    {
     "name": "stdout",
     "output_type": "stream",
     "text": [
      "Question 1.1\n",
      "mu1 after one iteration: [1.00 1.00]\n",
      "\n",
      "Question 1.2\n",
      "mu2 after two iterations: [2.00 1.00]\n",
      "\n",
      "Question 1.3\n",
      "mu3 after convergence: [1.00 2.00]\n",
      "\n",
      "Question 1.4\n",
      "1 iteration(s) till convergence\n",
      "\n"
     ]
    }
   ],
   "source": [
    "km = Kmeans()\n",
    "\n",
    "# https://stackoverflow.com/questions/22222818/how-to-print-numpy-array-with-3-decimal-places\n",
    "np.set_printoptions(formatter={'float': lambda x: \"{0:0.2f}\".format(x)})\n",
    "\n",
    "print(\"Question 1.1\")\n",
    "answer1_1 = km.k_means_iter(X, MU, 1)[0]\n",
    "print(f\"mu1 after one iteration: {answer1_1}\\n\")\n",
    "\n",
    "print(\"Question 1.2\")\n",
    "answer1_2 = km.k_means_iter(X, MU, 2)[1]\n",
    "print(f\"mu2 after two iterations: {answer1_2}\\n\")\n",
    "\n",
    "conv = km.k_means_conv(X, MU)\n",
    "\n",
    "print(\"Question 1.3\")\n",
    "answer1_3 = conv[0][2]\n",
    "print(f\"mu3 after convergence: {answer1_3}\\n\")\n",
    "\n",
    "print(\"Question 1.4\")\n",
    "answer1_4 = conv[1]\n",
    "print(f\"{answer1_4} iteration(s) till convergence\\n\")\n"
   ]
  }
 ],
 "metadata": {
  "kernelspec": {
   "display_name": ".venv",
   "language": "python",
   "name": "python3"
  },
  "language_info": {
   "codemirror_mode": {
    "name": "ipython",
    "version": 3
   },
   "file_extension": ".py",
   "mimetype": "text/x-python",
   "name": "python",
   "nbconvert_exporter": "python",
   "pygments_lexer": "ipython3",
   "version": "3.13.0"
  }
 },
 "nbformat": 4,
 "nbformat_minor": 2
}
